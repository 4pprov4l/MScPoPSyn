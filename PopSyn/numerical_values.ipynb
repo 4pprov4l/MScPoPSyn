{
 "cells": [
  {
   "cell_type": "code",
   "execution_count": 4,
   "metadata": {},
   "outputs": [],
   "source": [
    "### Importing the basic modules\n",
    "\n",
    "#### First part: Analysis and data pre-processing\n",
    "import os           # Working directory\n",
    "import pandas as pd # Data processing\n",
    "import matplotlib\n",
    "import matplotlib.pyplot as plt # Common graphing interface (check also plotly and plotnine)\n",
    "\n",
    "#### Second part: models and Hyperparameter optimization\n",
    "import tensorflow as tf\n",
    "import keras \n",
    "import numpy as np\n",
    "from functools import partial\n",
    "\n",
    "from keras.activations import relu, softmax \n",
    "from keras.callbacks import LearningRateScheduler, EarlyStopping\n",
    "from keras.layers import Activation, BatchNormalization, Concatenate, concatenate, Dense, Dropout, Input, InputLayer, Lambda, LeakyReLU\n",
    "#from keras.layers.merge import _Merge\n",
    "from keras.losses import mse, binary_crossentropy, categorical_crossentropy, mean_squared_error\n",
    "import keras.metrics as metrics\n",
    "from keras.models import Model, Sequential\n",
    "from keras.utils import plot_model\n",
    "from keras import backend as K\n",
    "from keras import metrics\n",
    "\n",
    "#### Third part: model validation and graphs\n",
    "import geopandas as gpd\n",
    "\n",
    "# Bayesian optimization modules\n",
    "#import GPy, GPyOpt\n",
    "\n",
    "#### Extra\n",
    "import random as rn\n",
    "\n",
    "# Personal modules\n",
    "from Utils import tuUtils\n",
    "from Utils import validationUtils\n",
    "from Utils import plotUtils\n",
    "from Utils import saveUtils\n",
    "from GAN.wganModel import WGAN"
   ]
  },
  {
   "cell_type": "code",
   "execution_count": 2,
   "metadata": {},
   "outputs": [],
   "source": [
    "os.chdir('/home/s212945/snap/snapd-desktop-integration/current/Documents/Thesis/MSc_PopSyn/Sigga_Luis/Data')"
   ]
  },
  {
   "cell_type": "code",
   "execution_count": null,
   "metadata": {},
   "outputs": [],
   "source": [
    "df_dtypes = {'IncRespondent2000' : 'float32',  'Sector' : 'category', \n",
    "             'DiaryMonth' : 'category', 'DiaryWeekday' : 'category', 'Handicap': 'category', \n",
    "             'MunicipalityOrigin': 'category', 'MunicipalityDest': 'category', 'AgeGroup': 'category', \n",
    "             'edu': 'category', 'RespEdulevel': 'category', 'RespHasBicycle': 'category', \n",
    "             'ResphasDrivlic': 'category', 'RespPrimOcc': 'category', 'Gender': 'category', 'WorkHourType': 'category', \n",
    "             'PopSocio': 'category', 'RespHasRejsekort': 'category', 'RespIsmemCarshare': 'category', \n",
    "             'Sector': 'category','HomeAdrDistNearestStation' : 'float32',  'IncFamily2000' : 'float32', \n",
    "             'IncHouseh2000' : 'float32',  'IncRespondent2000' : 'float32',  'WorkatHomeDayspM' : 'float32', \n",
    "              'HwDayspW' : 'float32',  'WorkHoursPw' : 'category',  'FamNumAdults' : 'float32', \n",
    "             'FamNumPers' : 'float32',  'HousehCarOwnership' : 'float32', 'HousehNumAdults' : 'float32', \n",
    "             'HousehNumcars' : 'float32',  'HousehNumPers' : 'float32',  'Year' : 'category',  'TotalNumTrips':'float32', \n",
    "             'RespAgeCorrect' : 'float32', 'DayStartZone' : 'category', 'HomeAdrZone' : 'category', 'JstartZone' : 'category', 'PrimOccZone' : 'category','SduZone' : 'category' }\n",
    "\n",
    "samp_df = pd.read_csv('simulationData.txt', sep=',', dtype=df_dtypes)"
   ]
  },
  {
   "cell_type": "code",
   "execution_count": null,
   "metadata": {},
   "outputs": [],
   "source": [
    "numerical = ['IncFamily2000', 'IncRespondent2000', 'WorkHoursPw', \n",
    "             'FamNumAdults', 'FamNumPers', 'HousehNumAdults', 'HousehNumcars', \n",
    "             'HousehNumPers', 'RespAgeCorrect', 'KidsBetween0and15', 'HousehCarOwnership',\n",
    "       'KidsBetween0and4',]\n",
    "\n",
    "numerical_col_n = len(numerical) # Number of numerical variable\n",
    "\n",
    "categorical = [col for col in list(samp_df) if col not in numerical]\n",
    "samp_df[categorical] = samp_df[categorical].astype('category')\n",
    "\n",
    "samp_df = samp_df[numerical + categorical]\n",
    "\n",
    "categorical = [col for col in list(samp_df) if col not in numerical]\n",
    "samp_df[categorical] = samp_df[categorical].astype('category')\n",
    "categorical_col_n = len(categorical) # Number of categorical variables\n",
    "categories_n = [] # Number of categories in each categorical variable\n",
    "for cat in categorical:\n",
    "    categories_n.append(len(samp_df[cat].cat.categories)) \n",
    "categories_cum = list(np.cumsum(categories_n)) # Cumulative sum of number of categorical variables\n",
    "categories_cum = [x for x in categories_cum] # We take one out because they will be indexes\n",
    "categories_cum = [0] + categories_cum\n",
    "\n",
    "# Sort the dataset columns\n",
    "samp_df = samp_df.reindex(numerical+categorical, axis=1)\n",
    "BINNING=False\n",
    "train, test, validation, pre_one_hot_df, one_hot_df, col_names, scaler = tuUtils.data_creator(samp_df, numerical=numerical, train_prop=0.812, val_prop=0.25, binning=BINNING, condition_on=None) # , quantiles=5 if dim too big"
   ]
  },
  {
   "cell_type": "code",
   "execution_count": 5,
   "metadata": {},
   "outputs": [
    {
     "ename": "AttributeError",
     "evalue": "module 'Utils.saveUtils' has no attribute 'loadModel'",
     "output_type": "error",
     "traceback": [
      "\u001b[0;31m---------------------------------------------------------------------------\u001b[0m",
      "\u001b[0;31mAttributeError\u001b[0m                            Traceback (most recent call last)",
      "Cell \u001b[0;32mIn[5], line 1\u001b[0m\n\u001b[0;32m----> 1\u001b[0m generator \u001b[38;5;241m=\u001b[39m \u001b[43msaveUtils\u001b[49m\u001b[38;5;241;43m.\u001b[39;49m\u001b[43mloadModel\u001b[49m(\u001b[38;5;124m'\u001b[39m\u001b[38;5;124mgenerator_model.h5\u001b[39m\u001b[38;5;124m'\u001b[39m)\n",
      "\u001b[0;31mAttributeError\u001b[0m: module 'Utils.saveUtils' has no attribute 'loadModel'"
     ]
    }
   ],
   "source": [
    "generator = saveUtils.loadModel('generator_model.h5')"
   ]
  },
  {
   "cell_type": "code",
   "execution_count": null,
   "metadata": {},
   "outputs": [],
   "source": []
  }
 ],
 "metadata": {
  "kernelspec": {
   "display_name": ".popsyn",
   "language": "python",
   "name": "python3"
  },
  "language_info": {
   "codemirror_mode": {
    "name": "ipython",
    "version": 3
   },
   "file_extension": ".py",
   "mimetype": "text/x-python",
   "name": "python",
   "nbconvert_exporter": "python",
   "pygments_lexer": "ipython3",
   "version": "3.10.12"
  }
 },
 "nbformat": 4,
 "nbformat_minor": 2
}
