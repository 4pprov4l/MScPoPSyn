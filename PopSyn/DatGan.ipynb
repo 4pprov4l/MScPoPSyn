{
 "cells": [
  {
   "cell_type": "code",
   "execution_count": null,
   "id": "72477c7e",
   "metadata": {},
   "outputs": [],
   "source": [
    "from sklearn.model_selection import train_test_split\n",
    "import tensorflow as tf\n",
    "import os\n",
    "import pandas as pd\n",
    "import numpy as np\n",
    "import networkx as nx\n",
    "import datgan\n",
    "import json\n",
    "\n",
    "# Set the TF_GPU_ALLOCATOR environment variable\n",
    "os.environ['TF_GPU_ALLOCATOR'] = 'cuda_malloc_async'\n",
    "\n",
    "### Enable all GPUs (reset to default)\n",
    "# physical_devices = tf.config.list_physical_devices('GPU')\n",
    "# tf.config.set_visible_devices(physical_devices, 'GPU')\n",
    "\n",
    "# Disable all GPUs\n",
    "tf.config.set_visible_devices([], 'GPU')\n",
    "\n",
    "#TF version\n",
    "print(f\"Tensorflow Version {tf.__version__}\")"
   ]
  },
  {
   "cell_type": "markdown",
   "id": "220f5fa9",
   "metadata": {},
   "source": [
    "# DEFINE DATGAN VERSION\n",
    "\n",
    "### Set Foldername variable"
   ]
  },
  {
   "cell_type": "code",
   "execution_count": null,
   "id": "c5ceada7",
   "metadata": {},
   "outputs": [],
   "source": [
    "DatGan_path = '/home/s212574/snap/snapd-desktop-integration/83/Documents/Thesis/MSc_PopSyn/Sigga_Luis/Data/'\n",
    "os.chdir(DatGan_path)\n",
    "\n",
    "# folder name\n",
    "folder_name = 'FolderName' # Locate folder where all the data is stored and results can be saved."
   ]
  },
  {
   "cell_type": "code",
   "execution_count": null,
   "id": "3040e06c",
   "metadata": {},
   "outputs": [],
   "source": [
    "# Load the data\n",
    "\n",
    "os.chdir(DatGan_path + folder_name)\n",
    "print(os.getcwd())\n",
    "# Load the data dtypes dictionary \n",
    "file_path = 'df_dtypes.json'\n",
    "with open(file_path, 'r') as file:\n",
    "    loaded_df_types = json.load(file)\n",
    "\n",
    "# Now, 'loaded_dict' contains the dictionary loaded from the JSON file\n",
    "print(loaded_df_types)\n",
    "\n",
    "# Load the relation data \n",
    "file_path = 'relations.json'  # Define the file path\n",
    "with open(file_path, 'r') as file:\n",
    "    loaded_relations = json.load(file)\n",
    "\n",
    "# Convert the loaded data back to tuples\n",
    "relations = [tuple(rel) for rel in loaded_relations]\n",
    "\n",
    "\n",
    "# Load the meta data\n",
    "file_path = 'data_info.json'  # Replace with your file path\n",
    "with open(file_path, 'r') as file:\n",
    "    loaded_data_info = json.load(file)\n",
    "\n",
    "# Now, 'loaded_data_info' contains the dictionary loaded from the JSON file\n",
    "print(loaded_data_info)\n",
    "\n",
    "\n",
    "# Load the graph\n",
    "graph = nx.read_adjlist('graph.adjlist', create_using=nx.DiGraph)\n",
    "\n",
    "\n",
    "# Load the train and test data\n",
    "# Load train data\n",
    "train_set = pd.read_csv('trainData.csv',sep=',',dtype=loaded_df_types)\n",
    "train_set.drop(train_set.columns[train_set.columns.str.contains('unnamed', case=False)], axis=1, inplace=True)\n",
    "# Load test data\n",
    "test_set= pd.read_csv('testData.csv',sep=',',dtype=loaded_df_types)\n",
    "test_set.drop(test_set.columns[test_set.columns.str.contains('unnamed', case=False)], axis=1, inplace=True)\n",
    "\n",
    "# Check the shapes of your sets\n",
    "print(\"Training set shape:\", train_set.shape)\n",
    "print(\"Testing set shape:\", test_set.shape)"
   ]
  },
  {
   "cell_type": "code",
   "execution_count": null,
   "id": "1c2b9667",
   "metadata": {},
   "outputs": [],
   "source": [
    "train_set.info()"
   ]
  },
  {
   "cell_type": "markdown",
   "id": "6624c0e4",
   "metadata": {},
   "source": [
    "# Training\n"
   ]
  },
  {
   "cell_type": "code",
   "execution_count": null,
   "id": "ae04a0ca",
   "metadata": {},
   "outputs": [],
   "source": [
    "### DatGan\n",
    "from datgan import DATGAN\n",
    "\n",
    "# Change the directory to the DatGan folder\n",
    "os.chdir(os.path.join(DatGan_path, folder_name, 'DatGan'))\n",
    "\n",
    "batch_size = 1116\n",
    "\n",
    "datgan = DATGAN(output='./output/',\n",
    "                batch_size=batch_size,\n",
    "                num_epochs=1000)"
   ]
  },
  {
   "cell_type": "code",
   "execution_count": null,
   "id": "3a4858ed",
   "metadata": {},
   "outputs": [],
   "source": [
    "# Training of DATGAN\n",
    "datgan.preprocess(data=train_set,metadata=loaded_data_info,preprocessed_data_path='./encoded_data/')"
   ]
  },
  {
   "cell_type": "code",
   "execution_count": null,
   "id": "9a917ad8",
   "metadata": {},
   "outputs": [],
   "source": [
    "# Load Model to sample from DATGAN\n",
    "new_datgan = datgan.fit(train_set, metadata=loaded_data_info, dag=graph, preprocessed_data_path='./encoded_data')"
   ]
  },
  {
   "cell_type": "code",
   "execution_count": null,
   "id": "2059a36d",
   "metadata": {},
   "outputs": [],
   "source": [
    "# Sample from DATGAN\n",
    "samples = datgan.sample(len(test_set))\n",
    "samples.to_csv('DatGan_synthetic.csv', index=False)"
   ]
  },
  {
   "cell_type": "code",
   "execution_count": null,
   "id": "d3603f8a",
   "metadata": {},
   "outputs": [],
   "source": []
  }
 ],
 "metadata": {
  "kernelspec": {
   "display_name": "Python 3 (ipykernel)",
   "language": "python",
   "name": "python3"
  },
  "language_info": {
   "codemirror_mode": {
    "name": "ipython",
    "version": 3
   },
   "file_extension": ".py",
   "mimetype": "text/x-python",
   "name": "python",
   "nbconvert_exporter": "python",
   "pygments_lexer": "ipython3",
   "version": "3.10.9"
  }
 },
 "nbformat": 4,
 "nbformat_minor": 5
}
