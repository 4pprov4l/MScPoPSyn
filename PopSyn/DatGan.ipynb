{
 "cells": [
  {
   "cell_type": "code",
   "execution_count": 1,
   "id": "72477c7e",
   "metadata": {},
   "outputs": [
    {
     "name": "stdout",
     "output_type": "stream",
     "text": [
      "Tensorflow Version 2.15.0\n"
     ]
    }
   ],
   "source": [
    "from sklearn.model_selection import train_test_split\n",
    "import tensorflow as tf\n",
    "import os\n",
    "import pandas as pd\n",
    "import numpy as np\n",
    "import networkx as nx\n",
    "import datgan\n",
    "import json\n",
    "\n",
    "# Set the TF_GPU_ALLOCATOR environment variable\n",
    "os.environ['TF_GPU_ALLOCATOR'] = 'cuda_malloc_async'\n",
    "\n",
    "### Enable all GPUs (reset to default)\n",
    "# physical_devices = tf.config.list_physical_devices('GPU')\n",
    "# tf.config.set_visible_devices(physical_devices, 'GPU')\n",
    "\n",
    "# Disable all GPUs\n",
    "tf.config.set_visible_devices([], 'GPU')\n",
    "\n",
    "#TF version\n",
    "print(f\"Tensorflow Version {tf.__version__}\")"
   ]
  },
  {
   "cell_type": "markdown",
   "id": "220f5fa9",
   "metadata": {},
   "source": [
    "# DEFINE DATGAN VERSION\n",
    "\n",
    "### Set Foldername variable"
   ]
  },
  {
   "cell_type": "code",
   "execution_count": 2,
   "id": "c5ceada7",
   "metadata": {},
   "outputs": [],
   "source": [
    "DatGan_path = '/Users/luis/MScPoPSyn/PopSyn/Data/'\n",
    "os.chdir(DatGan_path)\n",
    "\n",
    "# folder name\n",
    "folder_name = 'ModelVersion4' # Locate folder where all the data is stored and results can be saved."
   ]
  },
  {
   "cell_type": "code",
   "execution_count": 3,
   "id": "3040e06c",
   "metadata": {},
   "outputs": [
    {
     "name": "stdout",
     "output_type": "stream",
     "text": [
      "/Users/luis/MScPoPSyn/PopSyn/Data/ModelVersion4\n",
      "{'CarModelYear': 'category', 'Education': 'category', 'FamNumAdults': 'category', 'FamNumPers': 'category', 'FuelType': 'category', 'Gender': 'category', 'Handicap': 'category', 'HomeAdrZone': 'category', 'HousehCarOwnership': 'category', 'HousehNumAdults': 'category', 'HousehNumPers': 'category', 'HousehNumcars': 'category', 'HwDayspW': 'category', 'IncFamily2000': 'int64', 'IncRespondent2000': 'int64', 'KidsBetween0and4': 'category', 'KidsBetween0and15': 'category', 'MunicipalityDest': 'category', 'MunicipalityOrigin': 'category', 'PopSocio': 'category', 'PrimOccZone': 'category', 'RespAgeCorrect': 'category', 'RespHasBicycle': 'category', 'RespHasRejsekort': 'category', 'RespIsmemCarshare': 'category', 'RespPrimOcc': 'category', 'ResphasDrivlic': 'category', 'Sector': 'category', 'WorkHourType': 'category', 'WorkHoursPw': 'category', 'Year': 'category', 'HomeParkPoss': 'category', 'HousehAccomodation': 'category', 'HousehAccOwnorRent': 'category', 'PosInFamily': 'category', 'PrimModeDay': 'category', 'ModeChainTypeDay': 'category', 'RespHasSeasonticket': 'category', 'MissIncome': 'category'}\n",
      "{'WorkHoursPw': {'type': 'categorical'}, 'IncRespondent2000': {'type': 'continuous', 'bounds': [0, 10000], 'discrete': True}, 'IncFamily2000': {'type': 'continuous', 'bounds': [0, 10000], 'discrete': True}, 'RespAgeCorrect': {'type': 'categorical'}, 'HousehCarOwnership': {'type': 'categorical'}, 'FamNumAdults': {'type': 'categorical'}, 'FamNumPers': {'type': 'categorical'}, 'HousehNumAdults': {'type': 'categorical'}, 'HousehNumPers': {'type': 'categorical'}, 'HousehNumcars': {'type': 'categorical'}, 'Year': {'type': 'categorical'}, 'Gender': {'type': 'categorical'}, 'Education': {'type': 'categorical'}, 'Handicap': {'type': 'categorical'}, 'PopSocio': {'type': 'categorical'}, 'RespPrimOcc': {'type': 'categorical'}, 'KidsBetween0and15': {'type': 'categorical'}, 'KidsBetween0and4': {'type': 'categorical'}, 'CarModelYear': {'type': 'categorical'}, 'MunicipalityOrigin': {'type': 'categorical'}, 'MunicipalityDest': {'type': 'categorical'}, 'HomeAdrZone': {'type': 'categorical'}, 'PrimOccZone': {'type': 'categorical'}, 'WorkHourType': {'type': 'categorical'}, 'RespHasBicycle': {'type': 'categorical'}, 'ResphasDrivlic': {'type': 'categorical'}, 'RespHasRejsekort': {'type': 'categorical'}, 'RespIsmemCarshare': {'type': 'categorical'}, 'Sector': {'type': 'categorical'}, 'HwDayspW': {'type': 'categorical'}, 'FuelType': {'type': 'categorical'}, 'HomeParkPoss': {'type': 'categorical'}, 'RespHasSeasonticket': {'type': 'categorical'}, 'HousehAccomodation': {'type': 'categorical'}, 'HousehAccOwnorRent': {'type': 'categorical'}, 'PosInFamily': {'type': 'categorical'}, 'PrimModeDay': {'type': 'categorical'}, 'ModeChainTypeDay': {'type': 'categorical'}, 'MissIncome': {'type': 'categorical'}}\n",
      "Training set shape: (139619, 39)\n"
     ]
    }
   ],
   "source": [
    "# Load the data\n",
    "\n",
    "os.chdir(DatGan_path + folder_name)\n",
    "print(os.getcwd())\n",
    "# Load the data dtypes dictionary \n",
    "file_path = 'df_dtypes.json'\n",
    "with open(file_path, 'r') as file:\n",
    "    loaded_df_types = json.load(file)\n",
    "\n",
    "# Now, 'loaded_dict' contains the dictionary loaded from the JSON file\n",
    "print(loaded_df_types)\n",
    "\n",
    "# Load the relation data \n",
    "file_path = 'relations.json'  # Define the file path\n",
    "with open(file_path, 'r') as file:\n",
    "    loaded_relations = json.load(file)\n",
    "\n",
    "# Convert the loaded data back to tuples\n",
    "relations = [tuple(rel) for rel in loaded_relations]\n",
    "\n",
    "\n",
    "# Load the meta data\n",
    "file_path = 'data_info.json'  # Replace with your file path\n",
    "with open(file_path, 'r') as file:\n",
    "    loaded_data_info = json.load(file)\n",
    "\n",
    "# Now, 'loaded_data_info' contains the dictionary loaded from the JSON file\n",
    "print(loaded_data_info)\n",
    "\n",
    "\n",
    "# Load the graph\n",
    "graph = nx.read_adjlist('graph.adjlist', create_using=nx.DiGraph)\n",
    "# graph.add_node(\"MissIncome\")\n",
    "\n",
    "\n",
    "train_set = pd.read_csv('simulationData.csv', sep=',', dtype=loaded_df_types)\n",
    "train_set.drop(train_set.columns[train_set.columns.str.contains(\n",
    "    'unnamed', case=False)], axis=1, inplace=True)\n",
    "\n",
    "train_set.drop(columns=['SessionId'], inplace=True)\n",
    "\n",
    "# # Load the train and test data\n",
    "# # Load train data\n",
    "# train_set = pd.read_csv('trainData.csv',sep=',',dtype=loaded_df_types)\n",
    "# train_set.drop(train_set.columns[train_set.columns.str.contains('unnamed', case=False)], axis=1, inplace=True)\n",
    "# # Load test data\n",
    "# test_set= pd.read_csv('testData.csv',sep=',',dtype=loaded_df_types)\n",
    "# test_set.drop(test_set.columns[test_set.columns.str.contains('unnamed', case=False)], axis=1, inplace=True)\n",
    "\n",
    "# # Check the shapes of your sets\n",
    "print(\"Training set shape:\", train_set.shape)\n",
    "# print(\"Testing set shape:\", test_set.shape)"
   ]
  },
  {
   "cell_type": "code",
   "execution_count": 4,
   "id": "1c2b9667",
   "metadata": {},
   "outputs": [
    {
     "name": "stdout",
     "output_type": "stream",
     "text": [
      "<class 'pandas.core.frame.DataFrame'>\n",
      "RangeIndex: 139619 entries, 0 to 139618\n",
      "Data columns (total 39 columns):\n",
      " #   Column               Non-Null Count   Dtype   \n",
      "---  ------               --------------   -----   \n",
      " 0   FamNumPers           139619 non-null  category\n",
      " 1   HousehNumAdults      139619 non-null  category\n",
      " 2   IncFamily2000        139619 non-null  int64   \n",
      " 3   WorkHoursPw          139619 non-null  category\n",
      " 4   FamNumAdults         139619 non-null  category\n",
      " 5   HousehNumPers        139619 non-null  category\n",
      " 6   HousehCarOwnership   139619 non-null  category\n",
      " 7   IncRespondent2000    139619 non-null  int64   \n",
      " 8   HousehNumcars        139619 non-null  category\n",
      " 9   Year                 139619 non-null  category\n",
      " 10  Gender               139619 non-null  category\n",
      " 11  RespAgeCorrect       139619 non-null  category\n",
      " 12  Education            139619 non-null  category\n",
      " 13  Handicap             139619 non-null  category\n",
      " 14  PopSocio             139619 non-null  category\n",
      " 15  RespPrimOcc          139619 non-null  category\n",
      " 16  KidsBetween0and15    139619 non-null  category\n",
      " 17  KidsBetween0and4     139619 non-null  category\n",
      " 18  CarModelYear         139619 non-null  category\n",
      " 19  MunicipalityOrigin   139619 non-null  category\n",
      " 20  MunicipalityDest     139619 non-null  category\n",
      " 21  HomeAdrZone          139619 non-null  category\n",
      " 22  PrimOccZone          139619 non-null  category\n",
      " 23  WorkHourType         139619 non-null  category\n",
      " 24  RespHasBicycle       139619 non-null  category\n",
      " 25  ResphasDrivlic       139619 non-null  category\n",
      " 26  RespHasRejsekort     139619 non-null  category\n",
      " 27  RespIsmemCarshare    139619 non-null  category\n",
      " 28  Sector               139619 non-null  category\n",
      " 29  HwDayspW             139619 non-null  category\n",
      " 30  FuelType             139619 non-null  category\n",
      " 31  HomeParkPoss         139619 non-null  category\n",
      " 32  RespHasSeasonticket  139619 non-null  category\n",
      " 33  HousehAccomodation   139619 non-null  category\n",
      " 34  HousehAccOwnorRent   139619 non-null  category\n",
      " 35  PosInFamily          139619 non-null  category\n",
      " 36  PrimModeDay          139619 non-null  category\n",
      " 37  ModeChainTypeDay     139619 non-null  category\n",
      " 38  MissIncome           139619 non-null  category\n",
      "dtypes: category(37), int64(2)\n",
      "memory usage: 7.8 MB\n"
     ]
    }
   ],
   "source": [
    "train_set.info()"
   ]
  },
  {
   "cell_type": "markdown",
   "id": "6624c0e4",
   "metadata": {},
   "source": [
    "# Training\n"
   ]
  },
  {
   "cell_type": "code",
   "execution_count": 5,
   "id": "ae04a0ca",
   "metadata": {},
   "outputs": [],
   "source": [
    "### DatGan\n",
    "from datgan import DATGAN\n",
    "\n",
    "# Change the directory to the DatGan folder\n",
    "os.chdir(os.path.join(DatGan_path, folder_name, 'DatGan'))\n",
    "\n",
    "batch_size = 1116\n",
    "\n",
    "datgan = DATGAN(output='./output/',\n",
    "                batch_size=batch_size,\n",
    "                num_epochs=1000)"
   ]
  },
  {
   "cell_type": "code",
   "execution_count": 6,
   "id": "3a4858ed",
   "metadata": {},
   "outputs": [
    {
     "name": "stdout",
     "output_type": "stream",
     "text": [
      "Preprocessed data have been loaded!\n"
     ]
    }
   ],
   "source": [
    "# Training of DATGAN\n",
    "datgan.preprocess(data=train_set,metadata=loaded_data_info,preprocessed_data_path='./encoded_data/')"
   ]
  },
  {
   "cell_type": "code",
   "execution_count": 7,
   "id": "d3fa9a58",
   "metadata": {},
   "outputs": [
    {
     "name": "stdout",
     "output_type": "stream",
     "text": [
      "<class 'pandas.core.frame.DataFrame'>\n",
      "RangeIndex: 139619 entries, 0 to 139618\n",
      "Data columns (total 39 columns):\n",
      " #   Column               Non-Null Count   Dtype   \n",
      "---  ------               --------------   -----   \n",
      " 0   FamNumPers           139619 non-null  category\n",
      " 1   HousehNumAdults      139619 non-null  category\n",
      " 2   IncFamily2000        139619 non-null  int64   \n",
      " 3   WorkHoursPw          139619 non-null  category\n",
      " 4   FamNumAdults         139619 non-null  category\n",
      " 5   HousehNumPers        139619 non-null  category\n",
      " 6   HousehCarOwnership   139619 non-null  category\n",
      " 7   IncRespondent2000    139619 non-null  int64   \n",
      " 8   HousehNumcars        139619 non-null  category\n",
      " 9   Year                 139619 non-null  category\n",
      " 10  Gender               139619 non-null  category\n",
      " 11  RespAgeCorrect       139619 non-null  category\n",
      " 12  Education            139619 non-null  category\n",
      " 13  Handicap             139619 non-null  category\n",
      " 14  PopSocio             139619 non-null  category\n",
      " 15  RespPrimOcc          139619 non-null  category\n",
      " 16  KidsBetween0and15    139619 non-null  category\n",
      " 17  KidsBetween0and4     139619 non-null  category\n",
      " 18  CarModelYear         139619 non-null  category\n",
      " 19  MunicipalityOrigin   139619 non-null  category\n",
      " 20  MunicipalityDest     139619 non-null  category\n",
      " 21  HomeAdrZone          139619 non-null  category\n",
      " 22  PrimOccZone          139619 non-null  category\n",
      " 23  WorkHourType         139619 non-null  category\n",
      " 24  RespHasBicycle       139619 non-null  category\n",
      " 25  ResphasDrivlic       139619 non-null  category\n",
      " 26  RespHasRejsekort     139619 non-null  category\n",
      " 27  RespIsmemCarshare    139619 non-null  category\n",
      " 28  Sector               139619 non-null  category\n",
      " 29  HwDayspW             139619 non-null  category\n",
      " 30  FuelType             139619 non-null  category\n",
      " 31  HomeParkPoss         139619 non-null  category\n",
      " 32  RespHasSeasonticket  139619 non-null  category\n",
      " 33  HousehAccomodation   139619 non-null  category\n",
      " 34  HousehAccOwnorRent   139619 non-null  category\n",
      " 35  PosInFamily          139619 non-null  category\n",
      " 36  PrimModeDay          139619 non-null  category\n",
      " 37  ModeChainTypeDay     139619 non-null  category\n",
      " 38  MissIncome           139619 non-null  category\n",
      "dtypes: category(37), int64(2)\n",
      "memory usage: 7.8 MB\n"
     ]
    }
   ],
   "source": [
    "train_set.info()"
   ]
  },
  {
   "cell_type": "code",
   "execution_count": 8,
   "id": "9a917ad8",
   "metadata": {},
   "outputs": [
    {
     "name": "stderr",
     "output_type": "stream",
     "text": [
      "WARNING:absl:At this time, the v2.11+ optimizer `tf.keras.optimizers.RMSprop` runs slowly on M1/M2 Macs, please use the legacy Keras optimizer instead, located at `tf.keras.optimizers.legacy.RMSprop`.\n",
      "WARNING:absl:At this time, the v2.11+ optimizer `tf.keras.optimizers.RMSprop` runs slowly on M1/M2 Macs, please use the legacy Keras optimizer instead, located at `tf.keras.optimizers.legacy.RMSprop`.\n"
     ]
    },
    {
     "name": "stdout",
     "output_type": "stream",
     "text": [
      "Preprocessed data have been loaded!\n",
      "Start training DATGAN with the WGAN loss (27/02/2024 21:10:26).\n"
     ]
    },
    {
     "name": "stderr",
     "output_type": "stream",
     "text": [
      "Training DATGAN: 100%|██████████| 1000/1000 [23:28:04<00:00, 84.48s/it]  "
     ]
    },
    {
     "name": "stdout",
     "output_type": "stream",
     "text": [
      "DATGAN has finished training (28/02/2024 20:38:31) - Training time: 23 hours, 28 minutes, and 04 seconds\n"
     ]
    },
    {
     "name": "stderr",
     "output_type": "stream",
     "text": [
      "\n"
     ]
    }
   ],
   "source": [
    "# Load Model to sample from DATGAN\n",
    "new_datgan = datgan.fit(train_set, metadata=loaded_data_info, dag=graph, preprocessed_data_path='./encoded_data')"
   ]
  },
  {
   "cell_type": "code",
   "execution_count": 17,
   "id": "2059a36d",
   "metadata": {},
   "outputs": [
    {
     "name": "stderr",
     "output_type": "stream",
     "text": [
      "Sampling from DATGAN:  12%|█▏        | 122771/1000000 [1:19:51<9:30:39, 25.62it/s]\n",
      "Sampling from DATGAN: 100%|██████████| 1000000/1000000 [1:19:03<00:00, 210.83it/s]\n"
     ]
    }
   ],
   "source": [
    "# Sample from DATGAN\n",
    "samples = datgan.sample(1000000)\n",
    "samples.to_csv('DatGan_synthetic5.csv', index=False)"
   ]
  },
  {
   "cell_type": "code",
   "execution_count": 18,
   "id": "d3603f8a",
   "metadata": {},
   "outputs": [
    {
     "name": "stderr",
     "output_type": "stream",
     "text": [
      "/var/folders/0g/kb7tkcm57yx8ghzqc9cwb8q40000gn/T/ipykernel_76704/2561353444.py:1: DtypeWarning: Columns (21) have mixed types. Specify dtype option on import or set low_memory=False.\n",
      "  a = pd.read_csv('DatGan_synthetic.csv')\n",
      "/var/folders/0g/kb7tkcm57yx8ghzqc9cwb8q40000gn/T/ipykernel_76704/2561353444.py:2: DtypeWarning: Columns (21) have mixed types. Specify dtype option on import or set low_memory=False.\n",
      "  b = pd.read_csv('DatGan_synthetic1.csv')\n",
      "/var/folders/0g/kb7tkcm57yx8ghzqc9cwb8q40000gn/T/ipykernel_76704/2561353444.py:3: DtypeWarning: Columns (21) have mixed types. Specify dtype option on import or set low_memory=False.\n",
      "  c = pd.read_csv('DatGan_synthetic2.csv')\n",
      "/var/folders/0g/kb7tkcm57yx8ghzqc9cwb8q40000gn/T/ipykernel_76704/2561353444.py:4: DtypeWarning: Columns (21) have mixed types. Specify dtype option on import or set low_memory=False.\n",
      "  d = pd.read_csv('DatGan_synthetic3.csv')\n",
      "/var/folders/0g/kb7tkcm57yx8ghzqc9cwb8q40000gn/T/ipykernel_76704/2561353444.py:5: DtypeWarning: Columns (21) have mixed types. Specify dtype option on import or set low_memory=False.\n",
      "  e = pd.read_csv('DatGan_synthetic4.csv')\n",
      "/var/folders/0g/kb7tkcm57yx8ghzqc9cwb8q40000gn/T/ipykernel_76704/2561353444.py:6: DtypeWarning: Columns (21) have mixed types. Specify dtype option on import or set low_memory=False.\n",
      "  f = pd.read_csv('DatGan_synthetic5.csv')\n"
     ]
    }
   ],
   "source": [
    "a = pd.read_csv('DatGan_synthetic.csv')\n",
    "b = pd.read_csv('DatGan_synthetic1.csv')\n",
    "c = pd.read_csv('DatGan_synthetic2.csv')\n",
    "d = pd.read_csv('DatGan_synthetic3.csv')\n",
    "e = pd.read_csv('DatGan_synthetic4.csv')\n",
    "f = pd.read_csv('DatGan_synthetic5.csv')"
   ]
  },
  {
   "cell_type": "code",
   "execution_count": 19,
   "id": "bd758bb3",
   "metadata": {},
   "outputs": [],
   "source": [
    "combined_df = pd.concat([a, b, c, d, e, f], ignore_index=True)\n",
    "combined_df = combined_df.reset_index(drop=True)\n"
   ]
  },
  {
   "cell_type": "code",
   "execution_count": 33,
   "id": "b40542c4",
   "metadata": {},
   "outputs": [],
   "source": [
    "combined_df.to_csv('DatGan_Population.csv', index=False)"
   ]
  }
 ],
 "metadata": {
  "kernelspec": {
   "display_name": "Python 3 (ipykernel)",
   "language": "python",
   "name": "python3"
  },
  "language_info": {
   "codemirror_mode": {
    "name": "ipython",
    "version": 3
   },
   "file_extension": ".py",
   "mimetype": "text/x-python",
   "name": "python",
   "nbconvert_exporter": "python",
   "pygments_lexer": "ipython3",
   "version": "3.10.9"
  }
 },
 "nbformat": 4,
 "nbformat_minor": 5
}
