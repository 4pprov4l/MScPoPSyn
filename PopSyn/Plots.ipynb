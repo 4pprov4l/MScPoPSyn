{
 "cells": [
  {
   "cell_type": "code",
   "execution_count": 1,
   "metadata": {},
   "outputs": [],
   "source": [
    "import pandas as pd\n",
    "import numpy as np\n",
    "import dask.dataframe as dd\n",
    "import Plot_utils as pu\n",
    "from bokeh.plotting import figure, show\n"
   ]
  },
  {
   "cell_type": "code",
   "execution_count": 2,
   "metadata": {},
   "outputs": [
    {
     "name": "stdout",
     "output_type": "stream",
     "text": [
      "/Users/luis/Desktop/Data_extracted\n"
     ]
    }
   ],
   "source": [
    "cd /Users/luis/Desktop/Data_extracted\n"
   ]
  },
  {
   "cell_type": "code",
   "execution_count": 3,
   "metadata": {},
   "outputs": [
    {
     "data": {
      "text/html": [
       "<div>\n",
       "<style scoped>\n",
       "    .dataframe tbody tr th:only-of-type {\n",
       "        vertical-align: middle;\n",
       "    }\n",
       "\n",
       "    .dataframe tbody tr th {\n",
       "        vertical-align: top;\n",
       "    }\n",
       "\n",
       "    .dataframe thead th {\n",
       "        text-align: right;\n",
       "    }\n",
       "</style>\n",
       "<table border=\"1\" class=\"dataframe\">\n",
       "  <thead>\n",
       "    <tr style=\"text-align: right;\">\n",
       "      <th></th>\n",
       "      <th>HomeAdrDistNearestStation</th>\n",
       "      <th>IncFamily2000</th>\n",
       "      <th>IncHouseh2000</th>\n",
       "      <th>IncRespondent2000</th>\n",
       "      <th>WorkatHomeDayspM</th>\n",
       "      <th>SessionId</th>\n",
       "      <th>HwDayspW</th>\n",
       "      <th>WorkHoursPw</th>\n",
       "      <th>FamNumAdults</th>\n",
       "      <th>FamNumPers</th>\n",
       "      <th>...</th>\n",
       "      <th>RespHasBicycle</th>\n",
       "      <th>ResphasDrivlic</th>\n",
       "      <th>RespPrimOcc</th>\n",
       "      <th>Gender</th>\n",
       "      <th>TotalNumTrips</th>\n",
       "      <th>WorkHourType</th>\n",
       "      <th>Sector</th>\n",
       "      <th>PopSocio</th>\n",
       "      <th>RespHasRejsekort</th>\n",
       "      <th>RespIsmemCarshare</th>\n",
       "    </tr>\n",
       "  </thead>\n",
       "  <tbody>\n",
       "    <tr>\n",
       "      <th>0</th>\n",
       "      <td>8.1</td>\n",
       "      <td>382.0</td>\n",
       "      <td>382.0</td>\n",
       "      <td>169.0</td>\n",
       "      <td>0.0</td>\n",
       "      <td>141381</td>\n",
       "      <td>0.0</td>\n",
       "      <td>0.0</td>\n",
       "      <td>2.0</td>\n",
       "      <td>2.0</td>\n",
       "      <td>...</td>\n",
       "      <td>1.0</td>\n",
       "      <td>1.0</td>\n",
       "      <td>370.0</td>\n",
       "      <td>1</td>\n",
       "      <td>0</td>\n",
       "      <td>0</td>\n",
       "      <td>Activity not stated</td>\n",
       "      <td>3</td>\n",
       "      <td>2.0</td>\n",
       "      <td>2.0</td>\n",
       "    </tr>\n",
       "    <tr>\n",
       "      <th>1</th>\n",
       "      <td>1.0</td>\n",
       "      <td>636.0</td>\n",
       "      <td>636.0</td>\n",
       "      <td>339.0</td>\n",
       "      <td>5.0</td>\n",
       "      <td>141385</td>\n",
       "      <td>5.0</td>\n",
       "      <td>37.0</td>\n",
       "      <td>3.0</td>\n",
       "      <td>4.0</td>\n",
       "      <td>...</td>\n",
       "      <td>1.0</td>\n",
       "      <td>1.0</td>\n",
       "      <td>210.0</td>\n",
       "      <td>2</td>\n",
       "      <td>3</td>\n",
       "      <td>MISSING</td>\n",
       "      <td>Agriculture, forestry and fishing</td>\n",
       "      <td>1</td>\n",
       "      <td>20.0</td>\n",
       "      <td>2.0</td>\n",
       "    </tr>\n",
       "    <tr>\n",
       "      <th>2</th>\n",
       "      <td>4.3</td>\n",
       "      <td>390.0</td>\n",
       "      <td>390.0</td>\n",
       "      <td>390.0</td>\n",
       "      <td>0.0</td>\n",
       "      <td>141387</td>\n",
       "      <td>5.0</td>\n",
       "      <td>37.0</td>\n",
       "      <td>1.0</td>\n",
       "      <td>2.0</td>\n",
       "      <td>...</td>\n",
       "      <td>2.0</td>\n",
       "      <td>1.0</td>\n",
       "      <td>210.0</td>\n",
       "      <td>2</td>\n",
       "      <td>3</td>\n",
       "      <td>MISSING</td>\n",
       "      <td>Residential care</td>\n",
       "      <td>1</td>\n",
       "      <td>10.0</td>\n",
       "      <td>2.0</td>\n",
       "    </tr>\n",
       "    <tr>\n",
       "      <th>3</th>\n",
       "      <td>23.9</td>\n",
       "      <td>212.0</td>\n",
       "      <td>212.0</td>\n",
       "      <td>169.0</td>\n",
       "      <td>0.0</td>\n",
       "      <td>141388</td>\n",
       "      <td>5.0</td>\n",
       "      <td>37.0</td>\n",
       "      <td>2.0</td>\n",
       "      <td>3.0</td>\n",
       "      <td>...</td>\n",
       "      <td>1.0</td>\n",
       "      <td>1.0</td>\n",
       "      <td>210.0</td>\n",
       "      <td>1</td>\n",
       "      <td>1</td>\n",
       "      <td>MISSING</td>\n",
       "      <td>Consultancy etc.</td>\n",
       "      <td>1</td>\n",
       "      <td>2.0</td>\n",
       "      <td>2.0</td>\n",
       "    </tr>\n",
       "    <tr>\n",
       "      <th>4</th>\n",
       "      <td>0.2</td>\n",
       "      <td>254.0</td>\n",
       "      <td>254.0</td>\n",
       "      <td>254.0</td>\n",
       "      <td>0.0</td>\n",
       "      <td>141389</td>\n",
       "      <td>5.0</td>\n",
       "      <td>37.0</td>\n",
       "      <td>2.0</td>\n",
       "      <td>2.0</td>\n",
       "      <td>...</td>\n",
       "      <td>1.0</td>\n",
       "      <td>2.0</td>\n",
       "      <td>210.0</td>\n",
       "      <td>2</td>\n",
       "      <td>2</td>\n",
       "      <td>MISSING</td>\n",
       "      <td>Human health activities</td>\n",
       "      <td>1</td>\n",
       "      <td>20.0</td>\n",
       "      <td>2.0</td>\n",
       "    </tr>\n",
       "  </tbody>\n",
       "</table>\n",
       "<p>5 rows × 34 columns</p>\n",
       "</div>"
      ],
      "text/plain": [
       "   HomeAdrDistNearestStation  IncFamily2000  IncHouseh2000  IncRespondent2000  \\\n",
       "0                        8.1          382.0          382.0              169.0   \n",
       "1                        1.0          636.0          636.0              339.0   \n",
       "2                        4.3          390.0          390.0              390.0   \n",
       "3                       23.9          212.0          212.0              169.0   \n",
       "4                        0.2          254.0          254.0              254.0   \n",
       "\n",
       "   WorkatHomeDayspM  SessionId  HwDayspW  WorkHoursPw  FamNumAdults  \\\n",
       "0               0.0     141381       0.0          0.0           2.0   \n",
       "1               5.0     141385       5.0         37.0           3.0   \n",
       "2               0.0     141387       5.0         37.0           1.0   \n",
       "3               0.0     141388       5.0         37.0           2.0   \n",
       "4               0.0     141389       5.0         37.0           2.0   \n",
       "\n",
       "   FamNumPers  ...  RespHasBicycle  ResphasDrivlic  RespPrimOcc  Gender  \\\n",
       "0         2.0  ...             1.0             1.0        370.0       1   \n",
       "1         4.0  ...             1.0             1.0        210.0       2   \n",
       "2         2.0  ...             2.0             1.0        210.0       2   \n",
       "3         3.0  ...             1.0             1.0        210.0       1   \n",
       "4         2.0  ...             1.0             2.0        210.0       2   \n",
       "\n",
       "  TotalNumTrips WorkHourType                             Sector PopSocio  \\\n",
       "0             0            0                Activity not stated        3   \n",
       "1             3      MISSING  Agriculture, forestry and fishing        1   \n",
       "2             3      MISSING                   Residential care        1   \n",
       "3             1      MISSING                   Consultancy etc.        1   \n",
       "4             2      MISSING            Human health activities        1   \n",
       "\n",
       "  RespHasRejsekort RespIsmemCarshare  \n",
       "0              2.0               2.0  \n",
       "1             20.0               2.0  \n",
       "2             10.0               2.0  \n",
       "3              2.0               2.0  \n",
       "4             20.0               2.0  \n",
       "\n",
       "[5 rows x 34 columns]"
      ]
     },
     "execution_count": 3,
     "metadata": {},
     "output_type": "execute_result"
    }
   ],
   "source": [
    "df = pd.read_csv('sim_df_no_nan.txt', sep=',')  \n",
    "\n",
    "categorical = ['DiaryMonth', 'DiaryWeekday', 'Handicap', 'MunicipalityOrigin', 'MunicipalityDest', 'AgeGroup', 'edu', \n",
    "               'RespEdulevel', 'RespHasBicycle', 'ResphasDrivlic', 'RespPrimOcc', 'Gender', 'WorkHourType', 'PopSocio', \n",
    "               'RespHasRejsekort', 'RespIsmemCarshare']\n",
    "\n",
    "numerical = ['HomeAdrDistNearestStation', 'IncFamily2000', 'IncHouseh2000', 'IncRespondent2000', 'WorkatHomeDayspM', \n",
    "             'SessionId', 'HwDayspW', 'WorkHoursPw', 'FamNumAdults', 'FamNumPers', 'HousehCarOwnership', 'HousehNumAdults', \n",
    "             'HousehNumcars', 'HousehNumPers', 'Year', 'RespAgeCorrect', 'TotalNumTrips', 'Sector']\n",
    "\n",
    "df = df.astype({col: 'category' for col in categorical})\n",
    "# df = df.astype({col: 'float64' for col in numerical})\n",
    "\n",
    "df.head()"
   ]
  },
  {
   "cell_type": "code",
   "execution_count": 4,
   "metadata": {},
   "outputs": [],
   "source": [
    "df1 = df.AgeGroup.value_counts().to_frame().sort_values(by=df.AgeGroup.name, ascending=True).reset_index()\n",
    "df2 = df.AgeGroup.value_counts().to_frame().sort_values(by=df.AgeGroup.name, ascending=True).reset_index()\n",
    "df3 = pd.merge(df1, df2, on = df1.AgeGroup.name)"
   ]
  },
  {
   "cell_type": "code",
   "execution_count": 5,
   "metadata": {},
   "outputs": [
    {
     "name": "stdout",
     "output_type": "stream",
     "text": [
      "The unique values of the two columns are the same.\n"
     ]
    }
   ],
   "source": [
    "p = pu.plot_distribution_comparison(df.AgeGroup, df.AgeGroup,'percent','offset')\n",
    "show(p)"
   ]
  },
  {
   "cell_type": "code",
   "execution_count": 6,
   "metadata": {},
   "outputs": [
    {
     "name": "stdout",
     "output_type": "stream",
     "text": [
      "The unique values of the two columns are the same.\n"
     ]
    }
   ],
   "source": [
    "p = pu.plot_distribution_comparison(df.AgeGroup, df.AgeGroup,'absolute','offset')\n",
    "show(p)"
   ]
  },
  {
   "cell_type": "code",
   "execution_count": 7,
   "metadata": {},
   "outputs": [],
   "source": [
    "p = pu.plot_column_distribution(df.AgeGroup, 'absolute')\n",
    "show(p)"
   ]
  },
  {
   "cell_type": "code",
   "execution_count": 8,
   "metadata": {},
   "outputs": [],
   "source": [
    "p = pu.plot_column_distribution(df.AgeGroup, 'percent')\n",
    "show(p)"
   ]
  },
  {
   "cell_type": "code",
   "execution_count": 9,
   "metadata": {},
   "outputs": [],
   "source": [
    "p = pu.plot_distribution_comparison(df.AgeGroup, df.AgeGroup,'absolute','s2s')\n",
    "show(p)\n",
    "p = pu.plot_distribution_comparison(df.AgeGroup, df.AgeGroup,'percent','s2s')\n",
    "show(p)"
   ]
  }
 ],
 "metadata": {
  "kernelspec": {
   "display_name": "Python 3",
   "language": "python",
   "name": "python3"
  },
  "language_info": {
   "codemirror_mode": {
    "name": "ipython",
    "version": 3
   },
   "file_extension": ".py",
   "mimetype": "text/x-python",
   "name": "python",
   "nbconvert_exporter": "python",
   "pygments_lexer": "ipython3",
   "version": "3.10.9"
  }
 },
 "nbformat": 4,
 "nbformat_minor": 2
}
