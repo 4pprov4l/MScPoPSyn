{
 "cells": [
  {
   "cell_type": "code",
   "execution_count": null,
   "id": "8bee5bbc-010b-4ea1-b6f4-dfbae457ca43",
   "metadata": {},
   "outputs": [],
   "source": [
    "os.chdir('/home/s212945/snap/snapd-desktop-integration/current/Documents/Thesis/codeSergio/data')"
   ]
  },
  {
   "cell_type": "code",
   "execution_count": null,
   "id": "ef337be1-d114-4b8e-96dd-8b6630bdb760",
   "metadata": {},
   "outputs": [],
   "source": []
  }
 ],
 "metadata": {
  "kernelspec": {
   "display_name": "Python 3 (ipykernel)",
   "language": "python",
   "name": "python3"
  },
  "language_info": {
   "codemirror_mode": {
    "name": "ipython",
    "version": 3
   },
   "file_extension": ".py",
   "mimetype": "text/x-python",
   "name": "python",
   "nbconvert_exporter": "python",
   "pygments_lexer": "ipython3",
   "version": "3.10.12"
  }
 },
 "nbformat": 4,
 "nbformat_minor": 5
}
